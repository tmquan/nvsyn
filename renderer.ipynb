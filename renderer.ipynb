{
 "cells": [
  {
   "cell_type": "code",
   "execution_count": 1,
   "metadata": {},
   "outputs": [],
   "source": [
    "import cv2\n",
    "import torch\n",
    "import torchvision\n",
    "from tqdm import tqdm\n",
    "import numpy as np\n",
    "import matplotlib.pyplot as plt\n",
    "from IPython.display import Image\n",
    "from monai.transforms import (\n",
    "    apply_transform,\n",
    "    Randomizable,\n",
    "    Compose,\n",
    "    OneOf,\n",
    "    EnsureChannelFirstDict,\n",
    "    LoadImageDict,\n",
    "    SpacingDict,\n",
    "    OrientationDict,\n",
    "    DivisiblePadDict,\n",
    "    CropForegroundDict,\n",
    "    ResizeDict,\n",
    "    RandZoomDict,\n",
    "    ZoomDict,\n",
    "    RandRotateDict,\n",
    "    HistogramNormalizeDict,\n",
    "    ScaleIntensityDict,\n",
    "    ScaleIntensityRangeDict,\n",
    "    ToTensorDict,\n",
    "    Transform\n",
    ")"
   ]
  },
  {
   "cell_type": "code",
   "execution_count": 2,
   "metadata": {},
   "outputs": [],
   "source": [
    "import os\n",
    "import glob\n",
    "from tqdm.auto import tqdm"
   ]
  },
  {
   "cell_type": "code",
   "execution_count": 3,
   "metadata": {},
   "outputs": [],
   "source": [
    "def glob_files(folders: str = None, extension: str = \"*.nii.gz\"):\n",
    "    assert folders is not None\n",
    "    paths = [\n",
    "        glob.glob(os.path.join(folder, extension), recursive=True)\n",
    "        for folder in folders\n",
    "    ]\n",
    "    files = sorted([item for sublist in paths for item in sublist])\n",
    "    print(len(files))\n",
    "    print(files[:1])\n",
    "    return files"
   ]
  },
  {
   "cell_type": "code",
   "execution_count": 4,
   "metadata": {},
   "outputs": [
    {
     "name": "stdout",
     "output_type": "stream",
     "text": [
      "402\n",
      "['/home/quantm/data/ChestXRLungSegmentation/NSCLC/processed/train/images/LUNG1-001_0000.nii.gz']\n"
     ]
    }
   ],
   "source": [
    "ct_folders = [\n",
    "    \"/home/quantm/data/ChestXRLungSegmentation/NSCLC/processed/train/images\",\n",
    "]\n",
    "ct_images = glob_files(\n",
    "    ct_folders, \n",
    "    extension=\"*.nii.gz\"\n",
    ")"
   ]
  },
  {
   "cell_type": "code",
   "execution_count": 5,
   "metadata": {},
   "outputs": [],
   "source": [
    "from util.camera import make_cameras_dea"
   ]
  },
  {
   "cell_type": "code",
   "execution_count": 6,
   "metadata": {},
   "outputs": [],
   "source": [
    "# Run forward pass\n",
    "device = torch.device('cuda:0')\n",
    "B = 1\n",
    "\n",
    "fov=12.0\n",
    "znear=7\n",
    "zfar=9"
   ]
  },
  {
   "cell_type": "code",
   "execution_count": 7,
   "metadata": {},
   "outputs": [],
   "source": [
    "def correct_window(\n",
    "    T_old, \n",
    "    a_min=-1024, \n",
    "    a_max=3071, \n",
    "    b_min=-1024, #-100, #-512, \n",
    "    b_max=3071, #+900, #3071, #1536, #2560, \n",
    "    factor=1.0    \n",
    "):\n",
    "    # Calculate the range for the old and new scales\n",
    "    range_old = a_max - a_min\n",
    "    range_new = b_max - b_min\n",
    "\n",
    "    # Reverse the incorrect scaling\n",
    "    T_raw = (T_old * range_old) + a_min\n",
    "\n",
    "    # Apply the correct scaling\n",
    "    T_new = (T_raw - b_min) / range_new \n",
    "    return T_new.clamp(0, 1)\n"
   ]
  },
  {
   "cell_type": "code",
   "execution_count": 8,
   "metadata": {},
   "outputs": [],
   "source": [
    "# Define the transformation pipeline for \"image2d\"\n",
    "val_transforms = Compose(\n",
    "    [\n",
    "        LoadImageDict(keys=[\"image3d\"]),\n",
    "        EnsureChannelFirstDict(keys=[\"image3d\"],),\n",
    "        SpacingDict(\n",
    "            keys=[\"image3d\"],\n",
    "            pixdim=(1.0, 1.0, 1.0),\n",
    "            mode=[\"bilinear\"],\n",
    "            align_corners=True,\n",
    "        ),\n",
    "        OrientationDict(keys=(\"image3d\"), axcodes=\"ASL\"),\n",
    "        ScaleIntensityRangeDict(\n",
    "            keys=[\"image3d\"],\n",
    "            clip=True,\n",
    "            a_min=-1024,\n",
    "            a_max=+3071,\n",
    "            b_min=0.0,\n",
    "            b_max=1.0,\n",
    "        ),\n",
    "        ScaleIntensityRangeDict(\n",
    "            keys=[\"image3d\"],\n",
    "            clip=True,\n",
    "            a_min=-1024,\n",
    "            a_max=+3071,\n",
    "            b_min=-1024,\n",
    "            b_max=+3071,\n",
    "        ),\n",
    "        # CropForegroundDict(\n",
    "        #     keys=[\"image3d\"],\n",
    "        #     source_key=\"image3d\",\n",
    "        #     select_fn=(lambda x: x > 0),\n",
    "        #     margin=0,\n",
    "        # ),\n",
    "        # ZoomDict(keys=[\"image3d\"], zoom=0.95, padding_mode=\"constant\", mode=[\"area\"]),\n",
    "        ResizeDict(\n",
    "            keys=[\"image3d\"],\n",
    "            spatial_size=256,\n",
    "            size_mode=\"longest\",\n",
    "            mode=[\"trilinear\"],\n",
    "            align_corners=True,\n",
    "        ),\n",
    "        DivisiblePadDict(\n",
    "            keys=[\"image3d\"],\n",
    "            k=256,\n",
    "            mode=\"constant\",\n",
    "            constant_values=0,\n",
    "        ),\n",
    "        ToTensorDict(keys=[\"image3d\"],),\n",
    "    ]\n",
    ")"
   ]
  },
  {
   "cell_type": "code",
   "execution_count": 10,
   "metadata": {},
   "outputs": [
    {
     "name": "stdout",
     "output_type": "stream",
     "text": [
      "torch.Size([1, 1, 256, 256, 256])\n",
      "metatensor(1.0000, device='cuda:0') metatensor(0., device='cuda:0')\n"
     ]
    }
   ],
   "source": [
    "i = 22 #11\n",
    "data = {}\n",
    "data[\"image3d\"] = ct_images[i]\n",
    "image3d = val_transforms(data)\n",
    "\n",
    "image3d = image3d[\"image3d\"].to(device)\n",
    "image3d = image3d.unsqueeze(0)\n",
    "print(image3d.shape)\n",
    "image3d = correct_window(image3d)\n",
    "\n",
    "#\n",
    "print(image3d.max(), image3d.min())\n"
   ]
  },
  {
   "cell_type": "code",
   "execution_count": 11,
   "metadata": {},
   "outputs": [],
   "source": [
    "\n",
    "# from dvr.renderer import ScreenCentricXRayVolumeRenderer\n",
    "# fwd_renderer = ScreenCentricXRayVolumeRenderer(\n",
    "#     image_width=256,\n",
    "#     image_height=256,\n",
    "#     n_pts_per_ray=800,\n",
    "#     min_depth=znear,\n",
    "#     max_depth=zfar,\n",
    "#     ndc_extent=1.0,\n",
    "# )\n",
    "\n",
    "# data = {}\n",
    "# data[\"image3d\"] = ct_images[i]\n",
    "# image3d = val_transforms(data)\n",
    "\n",
    "# image3d = image3d[\"image3d\"].to(device)\n",
    "# image3d = image3d.unsqueeze(0)\n",
    "# image3d = transform_hu_to_density(image3d)\n",
    "# # image3d = correct_window(image3d)\n",
    "\n",
    "# output = fwd_renderer.forward(\n",
    "#     image3d=image3d, \n",
    "#     cameras=view_hidden, \n",
    "# ).clamp_(0, 1).squeeze().detach().cpu()\n",
    "# output = (255*output).astype(torch.uint8).unsqueeze(0) #.transpose(-1, -2)\n",
    "\n",
    "# torchvision.io.write_png(output, f\"ScreenCentricXRayHiddenImage.png\")\n",
    "# Image(filename=\"ScreenCentricXRayHiddenImage.png\")"
   ]
  },
  {
   "cell_type": "code",
   "execution_count": 12,
   "metadata": {},
   "outputs": [
    {
     "name": "stderr",
     "output_type": "stream",
     "text": [
      "One or more elements of rays_densities are outside of validrange (0.0, 1.0)\n"
     ]
    },
    {
     "data": {
      "image/png": "[encoded data removed]",
      "text/plain": [
       "<IPython.core.display.Image object>"
      ]
     },
     "execution_count": 12,
     "metadata": {},
     "output_type": "execute_result"
    }
   ],
   "source": [
    "from dvr.renderer import ObjectCentricXRayVolumeRenderer\n",
    "fwd_renderer = ObjectCentricXRayVolumeRenderer(\n",
    "    image_width=256,\n",
    "    image_height=256,\n",
    "    n_pts_per_ray=800,\n",
    "    min_depth=znear,\n",
    "    max_depth=zfar,\n",
    "    ndc_extent=1.0,\n",
    ")\n",
    "\n",
    "data = {}\n",
    "data[\"image3d\"] = ct_images[i]\n",
    "image3d = val_transforms(data)\n",
    "\n",
    "image3d = image3d[\"image3d\"].to(device)\n",
    "image3d = image3d.unsqueeze(0)\n",
    "# image3d = transform_hu_to_density(image3d)\n",
    "image3d = correct_window(image3d)\n",
    "\n",
    "dist_hidden = 8 * torch.ones(B, device=device)\n",
    "elev_hidden = torch.zeros(B, device=device)\n",
    "azim_hidden = torch.zeros(B, device=device)\n",
    "view_hidden = make_cameras_dea(\n",
    "    dist_hidden, \n",
    "    elev_hidden, \n",
    "    azim_hidden, \n",
    "    fov=fov, \n",
    "    znear=znear, \n",
    "    zfar=zfar,\n",
    ").to(device)\n",
    "\n",
    "\n",
    "\n",
    "output = fwd_renderer.forward(\n",
    "    image3d=image3d, \n",
    "    cameras=view_hidden, \n",
    ").clamp_(0, 1).squeeze().detach().cpu()\n",
    "output = (255*output).astype(torch.uint8).unsqueeze(0) \n",
    "\n",
    "torchvision.io.write_png(output, f\"ObjectCentricXRayHiddenImage.png\")\n",
    "Image(filename=\"ObjectCentricXRayHiddenImage.png\")"
   ]
  },
  {
   "cell_type": "code",
   "execution_count": 18,
   "metadata": {},
   "outputs": [
    {
     "data": {
      "image/png": "[encoded data removed]",
      "text/plain": [
       "<IPython.core.display.Image object>"
      ]
     },
     "execution_count": 18,
     "metadata": {},
     "output_type": "execute_result"
    }
   ],
   "source": [
    "from dvr.renderer import ObjectCentricXRayVolumeRenderer\n",
    "fwd_renderer = ObjectCentricXRayVolumeRenderer(\n",
    "    image_width=256,\n",
    "    image_height=256,\n",
    "    n_pts_per_ray=800,\n",
    "    min_depth=znear,\n",
    "    max_depth=zfar,\n",
    "    ndc_extent=1.0,\n",
    ")\n",
    "\n",
    "data = {}\n",
    "data[\"image3d\"] = ct_images[i]\n",
    "image3d = val_transforms(data)\n",
    "\n",
    "image3d = image3d[\"image3d\"].to(device)\n",
    "image3d = image3d.unsqueeze(0)\n",
    "# image3d = transform_hu_to_density(image3d)\n",
    "image3d = correct_window(image3d)\n",
    "\n",
    "dist_lateral = 8 * torch.ones(B, device=device)\n",
    "elev_lateral = torch.ones(B, device=device) * -20\n",
    "azim_lateral = torch.ones(B, device=device) * 180\n",
    "view_lateral = make_cameras_dea(\n",
    "    dist_lateral, \n",
    "    elev_lateral, \n",
    "    azim_lateral, \n",
    "    fov=fov, \n",
    "    znear=znear, \n",
    "    zfar=zfar,\n",
    ").to(device)\n",
    "\n",
    "\n",
    "output = fwd_renderer.forward(\n",
    "    image3d=image3d, \n",
    "    cameras=view_lateral, \n",
    ").clamp_(0, 1).squeeze().detach().cpu()\n",
    "output = (255*output).astype(torch.uint8).unsqueeze(0) \n",
    "\n",
    "torchvision.io.write_png(output, f\"ObjectCentricXRaySideImage.png\")\n",
    "Image(filename=\"ObjectCentricXRaySideImage.png\")"
   ]
  },
  {
   "cell_type": "code",
   "execution_count": null,
   "metadata": {},
   "outputs": [],
   "source": []
  }
 ],
 "metadata": {
  "kernelspec": {
   "display_name": "py310",
   "language": "python",
   "name": "python3"
  },
  "language_info": {
   "codemirror_mode": {
    "name": "ipython",
    "version": 3
   },
   "file_extension": ".py",
   "mimetype": "text/x-python",
   "name": "python",
   "nbconvert_exporter": "python",
   "pygments_lexer": "ipython3",
   "version": "3.10.14"
  }
 },
 "nbformat": 4,
 "nbformat_minor": 2
}
