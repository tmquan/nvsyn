{
 "cells": [
  {
   "cell_type": "code",
   "execution_count": 2,
   "metadata": {},
   "outputs": [],
   "source": [
    "import math\n",
    "import torch\n",
    "from kaolin.render.camera import Camera, CameraExtrinsics, PinholeIntrinsics, OrthographicIntrinsics"
   ]
  },
  {
   "cell_type": "code",
   "execution_count": null,
   "metadata": {},
   "outputs": [
    {
     "name": "stdout",
     "output_type": "stream",
     "text": [
      "--- Camera 2 ---\n",
      "CameraExtrinsics of 1 cameras, of coordinate system: \n",
      "tensor([[1., 0., 0.],\n",
      "        [0., 1., 0.],\n",
      "        [0., 0., 1.]], device='cuda:0'). \n",
      "Camera #0 View Matrix: \n",
      "tensor([[[1.0000, 0.0000, 0.0000, 0.5000],\n",
      "         [0.0000, 1.0000, 0.0000, 0.5000],\n",
      "         [0.0000, 0.0000, 1.0000, 0.5000],\n",
      "         [0.0000, 0.0000, 0.0000, 1.0000]]], device='cuda:0'),\n",
      "Camera #0 Inverse View Matrix: \n",
      "tensor([[[ 1.0000,  0.0000,  0.0000, -0.5000],\n",
      "         [ 0.0000,  1.0000,  0.0000, -0.5000],\n",
      "         [ 0.0000,  0.0000,  1.0000, -0.5000],\n",
      "         [ 0.0000,  0.0000,  0.0000,  1.0000]]], device='cuda:0')\n",
      "\n",
      "PinholeIntrinsics of 1 cameras of resolution 800x600.\n",
      "Camera #0: {'x0': 0.0, 'y0': 0.0, 'focal_x': 724.2640991210938, 'focal_y': 724.2640991210938}\n",
      "\n"
     ]
    }
   ],
   "source": [
    "# Build the camera extrinsics object from lookat\n",
    "world2cam = torch.tensor([[1.0, 0.0, 0.0, 0.5],\n",
    "                          [0.0, 1.0, 0.0, 0.5],\n",
    "                          [0.0, 0.0, 1.0, 0.5],\n",
    "                          [0.0, 0.0, 0.0, 1.0]], device='cuda')  # 3x3 orientation within the world\n",
    "extrinsics = CameraExtrinsics.from_view_matrix(view_matrix=world2cam)\n",
    "# Use pinhole camera intrinsics, construct using field-of-view (other useful args: camera_fov_direction, x0, y0)\n",
    "intrinsics = PinholeIntrinsics.from_fov(width=800, height=600, fov=math.radians(45.0), device='cuda')\n",
    "camera = Camera(extrinsics=extrinsics, intrinsics=intrinsics)\n",
    "\n",
    "print('--- Camera ---')\n",
    "print(camera)"
   ]
  },
  {
   "cell_type": "code",
   "execution_count": null,
   "metadata": {},
   "outputs": [],
   "source": []
  },
  {
   "cell_type": "code",
   "execution_count": null,
   "metadata": {},
   "outputs": [],
   "source": []
  }
 ],
 "metadata": {
  "kernelspec": {
   "display_name": "py310",
   "language": "python",
   "name": "python3"
  },
  "language_info": {
   "codemirror_mode": {
    "name": "ipython",
    "version": 3
   },
   "file_extension": ".py",
   "mimetype": "text/x-python",
   "name": "python",
   "nbconvert_exporter": "python",
   "pygments_lexer": "ipython3",
   "version": "3.10.14"
  }
 },
 "nbformat": 4,
 "nbformat_minor": 2
}
